{
  "nbformat": 4,
  "nbformat_minor": 0,
  "metadata": {
    "colab": {
      "provenance": []
    },
    "kernelspec": {
      "name": "python3",
      "display_name": "Python 3"
    },
    "language_info": {
      "name": "python"
    }
  },
  "cells": [
    {
      "cell_type": "markdown",
      "source": [
        "# Project #1\n",
        "\n",
        "## Machine Learning 1\n",
        "\n",
        "### Summary:\n",
        "\n",
        "### Results:\n",
        "\n",
        "### Conclusion:\n",
        "\n",
        "Ashley - marital status\n",
        "\n",
        "Anna - age, happy\n",
        "\n",
        "Semin - after life\n",
        "\n",
        "Emily - income"
      ],
      "metadata": {
        "id": "9nhZcLIAoVw-"
      }
    },
    {
      "cell_type": "code",
      "source": [
        "import numpy as np\n",
        "import pandas as pd\n",
        "import seaborn as sns\n",
        "import matplotlib.pyplot as plt"
      ],
      "metadata": {
        "id": "n6FRL_585pBq"
      },
      "execution_count": null,
      "outputs": []
    },
    {
      "cell_type": "code",
      "source": [
        "! git clone https://github.com/annacfisher/project_gss"
      ],
      "metadata": {
        "colab": {
          "base_uri": "https://localhost:8080/"
        },
        "id": "X3yLHa8_sQxu",
        "outputId": "ce5aa019-9ed3-4377-e69e-ebda7844d418"
      },
      "execution_count": null,
      "outputs": [
        {
          "output_type": "stream",
          "name": "stdout",
          "text": [
            "fatal: destination path 'project_gss' already exists and is not an empty directory.\n"
          ]
        }
      ]
    },
    {
      "cell_type": "code",
      "source": [
        "df = pd.read_csv('/content/project_gss/selected_gss_data.csv')"
      ],
      "metadata": {
        "id": "ju5th07A5lcV"
      },
      "execution_count": null,
      "outputs": []
    },
    {
      "cell_type": "code",
      "source": [
        "df.head()"
      ],
      "metadata": {
        "colab": {
          "base_uri": "https://localhost:8080/",
          "height": 204
        },
        "id": "LzT_R4J65xMA",
        "outputId": "751c15fe-a7e8-4e5f-c418-dca4e6b02808"
      },
      "execution_count": null,
      "outputs": [
        {
          "output_type": "execute_result",
          "data": {
            "text/plain": [
              "         marital postlife   age          happy income\n",
              "0  never married      NaN  23.0  not too happy    NaN\n",
              "1        married      NaN  70.0  not too happy    NaN\n",
              "2        married      NaN  48.0   pretty happy    NaN\n",
              "3        married      NaN  27.0  not too happy    NaN\n",
              "4        married      NaN  61.0   pretty happy    NaN"
            ],
            "text/html": [
              "\n",
              "  <div id=\"df-115a681d-c11c-4077-bcef-4e54e37b28d6\" class=\"colab-df-container\">\n",
              "    <div>\n",
              "<style scoped>\n",
              "    .dataframe tbody tr th:only-of-type {\n",
              "        vertical-align: middle;\n",
              "    }\n",
              "\n",
              "    .dataframe tbody tr th {\n",
              "        vertical-align: top;\n",
              "    }\n",
              "\n",
              "    .dataframe thead th {\n",
              "        text-align: right;\n",
              "    }\n",
              "</style>\n",
              "<table border=\"1\" class=\"dataframe\">\n",
              "  <thead>\n",
              "    <tr style=\"text-align: right;\">\n",
              "      <th></th>\n",
              "      <th>marital</th>\n",
              "      <th>postlife</th>\n",
              "      <th>age</th>\n",
              "      <th>happy</th>\n",
              "      <th>income</th>\n",
              "    </tr>\n",
              "  </thead>\n",
              "  <tbody>\n",
              "    <tr>\n",
              "      <th>0</th>\n",
              "      <td>never married</td>\n",
              "      <td>NaN</td>\n",
              "      <td>23.0</td>\n",
              "      <td>not too happy</td>\n",
              "      <td>NaN</td>\n",
              "    </tr>\n",
              "    <tr>\n",
              "      <th>1</th>\n",
              "      <td>married</td>\n",
              "      <td>NaN</td>\n",
              "      <td>70.0</td>\n",
              "      <td>not too happy</td>\n",
              "      <td>NaN</td>\n",
              "    </tr>\n",
              "    <tr>\n",
              "      <th>2</th>\n",
              "      <td>married</td>\n",
              "      <td>NaN</td>\n",
              "      <td>48.0</td>\n",
              "      <td>pretty happy</td>\n",
              "      <td>NaN</td>\n",
              "    </tr>\n",
              "    <tr>\n",
              "      <th>3</th>\n",
              "      <td>married</td>\n",
              "      <td>NaN</td>\n",
              "      <td>27.0</td>\n",
              "      <td>not too happy</td>\n",
              "      <td>NaN</td>\n",
              "    </tr>\n",
              "    <tr>\n",
              "      <th>4</th>\n",
              "      <td>married</td>\n",
              "      <td>NaN</td>\n",
              "      <td>61.0</td>\n",
              "      <td>pretty happy</td>\n",
              "      <td>NaN</td>\n",
              "    </tr>\n",
              "  </tbody>\n",
              "</table>\n",
              "</div>\n",
              "    <div class=\"colab-df-buttons\">\n",
              "\n",
              "  <div class=\"colab-df-container\">\n",
              "    <button class=\"colab-df-convert\" onclick=\"convertToInteractive('df-115a681d-c11c-4077-bcef-4e54e37b28d6')\"\n",
              "            title=\"Convert this dataframe to an interactive table.\"\n",
              "            style=\"display:none;\">\n",
              "\n",
              "  <svg xmlns=\"http://www.w3.org/2000/svg\" height=\"24px\" viewBox=\"0 -960 960 960\">\n",
              "    <path d=\"M120-120v-720h720v720H120Zm60-500h600v-160H180v160Zm220 220h160v-160H400v160Zm0 220h160v-160H400v160ZM180-400h160v-160H180v160Zm440 0h160v-160H620v160ZM180-180h160v-160H180v160Zm440 0h160v-160H620v160Z\"/>\n",
              "  </svg>\n",
              "    </button>\n",
              "\n",
              "  <style>\n",
              "    .colab-df-container {\n",
              "      display:flex;\n",
              "      gap: 12px;\n",
              "    }\n",
              "\n",
              "    .colab-df-convert {\n",
              "      background-color: #E8F0FE;\n",
              "      border: none;\n",
              "      border-radius: 50%;\n",
              "      cursor: pointer;\n",
              "      display: none;\n",
              "      fill: #1967D2;\n",
              "      height: 32px;\n",
              "      padding: 0 0 0 0;\n",
              "      width: 32px;\n",
              "    }\n",
              "\n",
              "    .colab-df-convert:hover {\n",
              "      background-color: #E2EBFA;\n",
              "      box-shadow: 0px 1px 2px rgba(60, 64, 67, 0.3), 0px 1px 3px 1px rgba(60, 64, 67, 0.15);\n",
              "      fill: #174EA6;\n",
              "    }\n",
              "\n",
              "    .colab-df-buttons div {\n",
              "      margin-bottom: 4px;\n",
              "    }\n",
              "\n",
              "    [theme=dark] .colab-df-convert {\n",
              "      background-color: #3B4455;\n",
              "      fill: #D2E3FC;\n",
              "    }\n",
              "\n",
              "    [theme=dark] .colab-df-convert:hover {\n",
              "      background-color: #434B5C;\n",
              "      box-shadow: 0px 1px 3px 1px rgba(0, 0, 0, 0.15);\n",
              "      filter: drop-shadow(0px 1px 2px rgba(0, 0, 0, 0.3));\n",
              "      fill: #FFFFFF;\n",
              "    }\n",
              "  </style>\n",
              "\n",
              "    <script>\n",
              "      const buttonEl =\n",
              "        document.querySelector('#df-115a681d-c11c-4077-bcef-4e54e37b28d6 button.colab-df-convert');\n",
              "      buttonEl.style.display =\n",
              "        google.colab.kernel.accessAllowed ? 'block' : 'none';\n",
              "\n",
              "      async function convertToInteractive(key) {\n",
              "        const element = document.querySelector('#df-115a681d-c11c-4077-bcef-4e54e37b28d6');\n",
              "        const dataTable =\n",
              "          await google.colab.kernel.invokeFunction('convertToInteractive',\n",
              "                                                    [key], {});\n",
              "        if (!dataTable) return;\n",
              "\n",
              "        const docLinkHtml = 'Like what you see? Visit the ' +\n",
              "          '<a target=\"_blank\" href=https://colab.research.google.com/notebooks/data_table.ipynb>data table notebook</a>'\n",
              "          + ' to learn more about interactive tables.';\n",
              "        element.innerHTML = '';\n",
              "        dataTable['output_type'] = 'display_data';\n",
              "        await google.colab.output.renderOutput(dataTable, element);\n",
              "        const docLink = document.createElement('div');\n",
              "        docLink.innerHTML = docLinkHtml;\n",
              "        element.appendChild(docLink);\n",
              "      }\n",
              "    </script>\n",
              "  </div>\n",
              "\n",
              "\n",
              "<div id=\"df-c2036929-f761-4795-8d63-377355056306\">\n",
              "  <button class=\"colab-df-quickchart\" onclick=\"quickchart('df-c2036929-f761-4795-8d63-377355056306')\"\n",
              "            title=\"Suggest charts\"\n",
              "            style=\"display:none;\">\n",
              "\n",
              "<svg xmlns=\"http://www.w3.org/2000/svg\" height=\"24px\"viewBox=\"0 0 24 24\"\n",
              "     width=\"24px\">\n",
              "    <g>\n",
              "        <path d=\"M19 3H5c-1.1 0-2 .9-2 2v14c0 1.1.9 2 2 2h14c1.1 0 2-.9 2-2V5c0-1.1-.9-2-2-2zM9 17H7v-7h2v7zm4 0h-2V7h2v10zm4 0h-2v-4h2v4z\"/>\n",
              "    </g>\n",
              "</svg>\n",
              "  </button>\n",
              "\n",
              "<style>\n",
              "  .colab-df-quickchart {\n",
              "      --bg-color: #E8F0FE;\n",
              "      --fill-color: #1967D2;\n",
              "      --hover-bg-color: #E2EBFA;\n",
              "      --hover-fill-color: #174EA6;\n",
              "      --disabled-fill-color: #AAA;\n",
              "      --disabled-bg-color: #DDD;\n",
              "  }\n",
              "\n",
              "  [theme=dark] .colab-df-quickchart {\n",
              "      --bg-color: #3B4455;\n",
              "      --fill-color: #D2E3FC;\n",
              "      --hover-bg-color: #434B5C;\n",
              "      --hover-fill-color: #FFFFFF;\n",
              "      --disabled-bg-color: #3B4455;\n",
              "      --disabled-fill-color: #666;\n",
              "  }\n",
              "\n",
              "  .colab-df-quickchart {\n",
              "    background-color: var(--bg-color);\n",
              "    border: none;\n",
              "    border-radius: 50%;\n",
              "    cursor: pointer;\n",
              "    display: none;\n",
              "    fill: var(--fill-color);\n",
              "    height: 32px;\n",
              "    padding: 0;\n",
              "    width: 32px;\n",
              "  }\n",
              "\n",
              "  .colab-df-quickchart:hover {\n",
              "    background-color: var(--hover-bg-color);\n",
              "    box-shadow: 0 1px 2px rgba(60, 64, 67, 0.3), 0 1px 3px 1px rgba(60, 64, 67, 0.15);\n",
              "    fill: var(--button-hover-fill-color);\n",
              "  }\n",
              "\n",
              "  .colab-df-quickchart-complete:disabled,\n",
              "  .colab-df-quickchart-complete:disabled:hover {\n",
              "    background-color: var(--disabled-bg-color);\n",
              "    fill: var(--disabled-fill-color);\n",
              "    box-shadow: none;\n",
              "  }\n",
              "\n",
              "  .colab-df-spinner {\n",
              "    border: 2px solid var(--fill-color);\n",
              "    border-color: transparent;\n",
              "    border-bottom-color: var(--fill-color);\n",
              "    animation:\n",
              "      spin 1s steps(1) infinite;\n",
              "  }\n",
              "\n",
              "  @keyframes spin {\n",
              "    0% {\n",
              "      border-color: transparent;\n",
              "      border-bottom-color: var(--fill-color);\n",
              "      border-left-color: var(--fill-color);\n",
              "    }\n",
              "    20% {\n",
              "      border-color: transparent;\n",
              "      border-left-color: var(--fill-color);\n",
              "      border-top-color: var(--fill-color);\n",
              "    }\n",
              "    30% {\n",
              "      border-color: transparent;\n",
              "      border-left-color: var(--fill-color);\n",
              "      border-top-color: var(--fill-color);\n",
              "      border-right-color: var(--fill-color);\n",
              "    }\n",
              "    40% {\n",
              "      border-color: transparent;\n",
              "      border-right-color: var(--fill-color);\n",
              "      border-top-color: var(--fill-color);\n",
              "    }\n",
              "    60% {\n",
              "      border-color: transparent;\n",
              "      border-right-color: var(--fill-color);\n",
              "    }\n",
              "    80% {\n",
              "      border-color: transparent;\n",
              "      border-right-color: var(--fill-color);\n",
              "      border-bottom-color: var(--fill-color);\n",
              "    }\n",
              "    90% {\n",
              "      border-color: transparent;\n",
              "      border-bottom-color: var(--fill-color);\n",
              "    }\n",
              "  }\n",
              "</style>\n",
              "\n",
              "  <script>\n",
              "    async function quickchart(key) {\n",
              "      const quickchartButtonEl =\n",
              "        document.querySelector('#' + key + ' button');\n",
              "      quickchartButtonEl.disabled = true;  // To prevent multiple clicks.\n",
              "      quickchartButtonEl.classList.add('colab-df-spinner');\n",
              "      try {\n",
              "        const charts = await google.colab.kernel.invokeFunction(\n",
              "            'suggestCharts', [key], {});\n",
              "      } catch (error) {\n",
              "        console.error('Error during call to suggestCharts:', error);\n",
              "      }\n",
              "      quickchartButtonEl.classList.remove('colab-df-spinner');\n",
              "      quickchartButtonEl.classList.add('colab-df-quickchart-complete');\n",
              "    }\n",
              "    (() => {\n",
              "      let quickchartButtonEl =\n",
              "        document.querySelector('#df-c2036929-f761-4795-8d63-377355056306 button');\n",
              "      quickchartButtonEl.style.display =\n",
              "        google.colab.kernel.accessAllowed ? 'block' : 'none';\n",
              "    })();\n",
              "  </script>\n",
              "</div>\n",
              "    </div>\n",
              "  </div>\n"
            ],
            "application/vnd.google.colaboratory.intrinsic+json": {
              "type": "dataframe",
              "variable_name": "df",
              "summary": "{\n  \"name\": \"df\",\n  \"rows\": 72392,\n  \"fields\": [\n    {\n      \"column\": \"marital\",\n      \"properties\": {\n        \"dtype\": \"category\",\n        \"num_unique_values\": 6,\n        \"samples\": [\n          \"never married\",\n          \"married\",\n          \"marital\"\n        ],\n        \"semantic_type\": \"\",\n        \"description\": \"\"\n      }\n    },\n    {\n      \"column\": \"postlife\",\n      \"properties\": {\n        \"dtype\": \"category\",\n        \"num_unique_values\": 3,\n        \"samples\": [\n          \"yes\",\n          \"no\",\n          \"postlife\"\n        ],\n        \"semantic_type\": \"\",\n        \"description\": \"\"\n      }\n    },\n    {\n      \"column\": \"age\",\n      \"properties\": {\n        \"dtype\": \"category\",\n        \"num_unique_values\": 73,\n        \"samples\": [\n          \"61.0\",\n          \"77.0\",\n          \"71.0\"\n        ],\n        \"semantic_type\": \"\",\n        \"description\": \"\"\n      }\n    },\n    {\n      \"column\": \"happy\",\n      \"properties\": {\n        \"dtype\": \"category\",\n        \"num_unique_values\": 4,\n        \"samples\": [\n          \"pretty happy\",\n          \"happy\",\n          \"not too happy\"\n        ],\n        \"semantic_type\": \"\",\n        \"description\": \"\"\n      }\n    },\n    {\n      \"column\": \"income\",\n      \"properties\": {\n        \"dtype\": \"category\",\n        \"num_unique_values\": 13,\n        \"samples\": [\n          \"$6,000 to $6,999\",\n          \"$8,000 to $9,999\",\n          \"$10,000 to $14,999\"\n        ],\n        \"semantic_type\": \"\",\n        \"description\": \"\"\n      }\n    }\n  ]\n}"
            }
          },
          "metadata": {},
          "execution_count": 29
        }
      ]
    },
    {
      "cell_type": "code",
      "source": [
        "df.value_counts()"
      ],
      "metadata": {
        "colab": {
          "base_uri": "https://localhost:8080/"
        },
        "id": "8GnE2-kG54S9",
        "outputId": "9c91d45f-25ec-449b-ca16-b2f2e30d403c"
      },
      "execution_count": null,
      "outputs": [
        {
          "output_type": "execute_result",
          "data": {
            "text/plain": [
              "marital  postlife  age   happy          income            \n",
              "married  yes       43.0  pretty happy   $25,000 or more       186\n",
              "                   36.0  pretty happy   $25,000 or more       176\n",
              "                   35.0  pretty happy   $25,000 or more       175\n",
              "                   37.0  pretty happy   $25,000 or more       172\n",
              "                   40.0  pretty happy   $25,000 or more       161\n",
              "                                                             ... \n",
              "                   68.0  not too happy  $15,000 to $19,999      1\n",
              "                   67.0  very happy     $7,000 to $7,999        1\n",
              "                                        $5,000 to $5,999        1\n",
              "                         pretty happy   $3,000 to $3,999        1\n",
              "widowed  yes       89.0  very happy     under $1,000            1\n",
              "Length: 8716, dtype: int64"
            ]
          },
          "metadata": {},
          "execution_count": 30
        }
      ]
    },
    {
      "cell_type": "code",
      "source": [
        "#cleaning age and happiness level"
      ],
      "metadata": {
        "id": "nP1B0vL97CD0"
      },
      "execution_count": null,
      "outputs": []
    },
    {
      "cell_type": "code",
      "source": [
        "print(df.dtypes, '\\n')"
      ],
      "metadata": {
        "colab": {
          "base_uri": "https://localhost:8080/"
        },
        "id": "sxq5DPe-6B3J",
        "outputId": "d44995b2-642b-4836-9d19-c166f9d9c7cb"
      },
      "execution_count": null,
      "outputs": [
        {
          "output_type": "stream",
          "name": "stdout",
          "text": [
            "marital     object\n",
            "postlife    object\n",
            "age         object\n",
            "happy       object\n",
            "income      object\n",
            "dtype: object \n",
            "\n"
          ]
        }
      ]
    },
    {
      "cell_type": "code",
      "source": [
        "df['age'].describe()"
      ],
      "metadata": {
        "id": "lULjHRT28LgB",
        "outputId": "01efddf7-cd90-4420-a5ac-08d6dcbfa7b8",
        "colab": {
          "base_uri": "https://localhost:8080/"
        }
      },
      "execution_count": null,
      "outputs": [
        {
          "output_type": "execute_result",
          "data": {
            "text/plain": [
              "count     71623\n",
              "unique       73\n",
              "top        30.0\n",
              "freq       1571\n",
              "Name: age, dtype: object"
            ]
          },
          "metadata": {},
          "execution_count": 33
        }
      ]
    },
    {
      "cell_type": "code",
      "source": [
        "df['age'] = pd.to_numeric(df['age'], errors='coerce')\n",
        "df['age'].describe() #after - only losing 2 data points\n"
      ],
      "metadata": {
        "id": "eBvAFxFE8EyP",
        "outputId": "0c9119d3-84f8-43ce-92fe-e5d49b30c3dc",
        "colab": {
          "base_uri": "https://localhost:8080/"
        }
      },
      "execution_count": null,
      "outputs": [
        {
          "output_type": "execute_result",
          "data": {
            "text/plain": [
              "count    71621.000000\n",
              "mean        46.555982\n",
              "std         17.600417\n",
              "min         18.000000\n",
              "25%         32.000000\n",
              "50%         44.000000\n",
              "75%         60.000000\n",
              "max         89.000000\n",
              "Name: age, dtype: float64"
            ]
          },
          "metadata": {},
          "execution_count": 34
        }
      ]
    },
    {
      "cell_type": "code",
      "source": [
        "sns.histplot(df['age'])"
      ],
      "metadata": {
        "id": "m8aFaYZw8bI-",
        "outputId": "2d699752-99f9-4868-daa5-4a4835ecd932",
        "colab": {
          "base_uri": "https://localhost:8080/",
          "height": 466
        }
      },
      "execution_count": null,
      "outputs": [
        {
          "output_type": "execute_result",
          "data": {
            "text/plain": [
              "<Axes: xlabel='age', ylabel='Count'>"
            ]
          },
          "metadata": {},
          "execution_count": 35
        },
        {
          "output_type": "display_data",
          "data": {
            "text/plain": [
              "<Figure size 640x480 with 1 Axes>"
            ],
            "image/png": "[encoded data removed]"
          },
          "metadata": {}
        }
      ]
    },
    {
      "cell_type": "code",
      "source": [
        "df['happy'].value_counts()\n",
        "\n",
        "#df['happy'].describe() #not all age observations have a happiness observation"
      ],
      "metadata": {
        "id": "C72fc-L48phI",
        "outputId": "438e5ec6-8c47-41cb-d150-afb6aee205c2",
        "colab": {
          "base_uri": "https://localhost:8080/"
        }
      },
      "execution_count": null,
      "outputs": [
        {
          "output_type": "execute_result",
          "data": {
            "text/plain": [
              "pretty happy     37813\n",
              "very happy       20385\n",
              "not too happy     9390\n",
              "happy                2\n",
              "Name: happy, dtype: int64"
            ]
          },
          "metadata": {},
          "execution_count": 36
        }
      ]
    },
    {
      "cell_type": "code",
      "source": [
        "#only 2 people answered happy, and it's unclear where happy is in the rankings, so replace those values with NAN"
      ],
      "metadata": {
        "id": "rtDuOa3E-Iv1"
      },
      "execution_count": null,
      "outputs": []
    },
    {
      "cell_type": "code",
      "source": [
        "df['happy'] = df['happy'].replace( 'happy', np.nan)"
      ],
      "metadata": {
        "id": "HSBOgsPs-cUS"
      },
      "execution_count": null,
      "outputs": []
    },
    {
      "cell_type": "code",
      "source": [
        "df[\"happy\"].hist()\n"
      ],
      "metadata": {
        "id": "Y6ae0K4y9erG",
        "outputId": "a294d8c5-9239-41a3-c495-b3e74a7d4b19",
        "colab": {
          "base_uri": "https://localhost:8080/",
          "height": 447
        }
      },
      "execution_count": null,
      "outputs": [
        {
          "output_type": "execute_result",
          "data": {
            "text/plain": [
              "<Axes: >"
            ]
          },
          "metadata": {},
          "execution_count": 39
        },
        {
          "output_type": "display_data",
          "data": {
            "text/plain": [
              "<Figure size 640x480 with 1 Axes>"
            ],
            "image/png": "[encoded data removed]"
          },
          "metadata": {}
        }
      ]
    },
    {
      "cell_type": "code",
      "source": [
        "# cleaning income\n",
        "income = df['income']\n",
        "income.unique()\n",
        "# because they're all strings, i think it would be easier if I just chose the upper bound and rounded (say $4,000 to $4,999 and rounded to 5000)\n",
        "# also want to get rid of the nan and the commas and dollar signs"
      ],
      "metadata": {
        "id": "DzjbE-36Qo2-",
        "outputId": "1c004009-f995-4a9c-f1b6-b127d2dbe323",
        "colab": {
          "base_uri": "https://localhost:8080/"
        }
      },
      "execution_count": null,
      "outputs": [
        {
          "output_type": "execute_result",
          "data": {
            "text/plain": [
              "array([nan, '$10,000 to $14,999', '$7,000 to $7,999', '$4,000 to $4,999',\n",
              "       '$1,000 to $2,999', '$15,000 to $19,999', '$5,000 to $5,999',\n",
              "       '$20,000 to $24,999', '$3,000 to $3,999', 'under $1,000',\n",
              "       '$8,000 to $9,999', '$25,000 or more', '$6,000 to $6,999',\n",
              "       'income'], dtype=object)"
            ]
          },
          "metadata": {},
          "execution_count": 40
        }
      ]
    },
    {
      "cell_type": "code",
      "source": [
        "income = income.str.replace(',','')\n",
        "print(income) # no commas"
      ],
      "metadata": {
        "id": "Nlo54G1KRR-U",
        "outputId": "d1fdda90-23e9-4cdd-b136-089589df5152",
        "colab": {
          "base_uri": "https://localhost:8080/"
        }
      },
      "execution_count": null,
      "outputs": [
        {
          "output_type": "stream",
          "name": "stdout",
          "text": [
            "0                   NaN\n",
            "1                   NaN\n",
            "2                   NaN\n",
            "3                   NaN\n",
            "4                   NaN\n",
            "              ...      \n",
            "72387    $25000 or more\n",
            "72388    $25000 or more\n",
            "72389    $25000 or more\n",
            "72390    $25000 or more\n",
            "72391    $25000 or more\n",
            "Name: income, Length: 72392, dtype: object\n"
          ]
        }
      ]
    },
    {
      "cell_type": "code",
      "source": [
        "income = income.str.replace('$','')\n",
        "print(income) # no dollar signs"
      ],
      "metadata": {
        "id": "vy5R-vxPR_gy",
        "outputId": "865732a7-a9d6-44d6-f9c2-2e14f98558a1",
        "colab": {
          "base_uri": "https://localhost:8080/"
        }
      },
      "execution_count": null,
      "outputs": [
        {
          "output_type": "stream",
          "name": "stdout",
          "text": [
            "0                  NaN\n",
            "1                  NaN\n",
            "2                  NaN\n",
            "3                  NaN\n",
            "4                  NaN\n",
            "             ...      \n",
            "72387    25000 or more\n",
            "72388    25000 or more\n",
            "72389    25000 or more\n",
            "72390    25000 or more\n",
            "72391    25000 or more\n",
            "Name: income, Length: 72392, dtype: object\n"
          ]
        },
        {
          "output_type": "stream",
          "name": "stderr",
          "text": [
            "<ipython-input-42-1a18825ccf92>:1: FutureWarning: The default value of regex will change from True to False in a future version. In addition, single character regular expressions will *not* be treated as literal strings when regex=True.\n",
            "  income = income.str.replace('$','')\n"
          ]
        }
      ]
    },
    {
      "cell_type": "code",
      "source": [
        "print(income.unique()) # why is 'income' a value for income?"
      ],
      "metadata": {
        "id": "qVVykrDZSRxu",
        "outputId": "04ecc697-d8dd-4654-ff07-cd53b04a0ff2",
        "colab": {
          "base_uri": "https://localhost:8080/"
        }
      },
      "execution_count": null,
      "outputs": [
        {
          "output_type": "stream",
          "name": "stdout",
          "text": [
            "[nan '10000 to 14999' '7000 to 7999' '4000 to 4999' '1000 to 2999'\n",
            " '15000 to 19999' '5000 to 5999' '20000 to 24999' '3000 to 3999'\n",
            " 'under 1000' '8000 to 9999' '25000 or more' '6000 to 6999' 'income']\n"
          ]
        }
      ]
    },
    {
      "cell_type": "code",
      "source": [
        "income = income.replace('income', np.nan) # got rid of income and nan\n",
        "income = income.replace('nan', np.nan)\n",
        "print(df.value_counts(income))"
      ],
      "metadata": {
        "id": "iU-Q3TJXSV-P",
        "outputId": "16b072df-62a8-47f1-d4ec-03ad0a37e031",
        "colab": {
          "base_uri": "https://localhost:8080/"
        }
      },
      "execution_count": null,
      "outputs": [
        {
          "output_type": "stream",
          "name": "stdout",
          "text": [
            "income\n",
            "25000 or more     34785\n",
            "10000 to 14999     6850\n",
            "20000 to 24999     5528\n",
            "15000 to 19999     5301\n",
            "8000 to 9999       2285\n",
            "1000 to 2999       1412\n",
            "7000 to 7999       1315\n",
            "5000 to 5999       1314\n",
            "3000 to 3999       1309\n",
            "6000 to 6999       1249\n",
            "4000 to 4999       1189\n",
            "under 1000          902\n",
            "dtype: int64\n"
          ]
        }
      ]
    },
    {
      "cell_type": "code",
      "source": [
        "# going to round up all of them except under 1000, which i will make 999 - also making them int not str\n",
        "# there's probably a function that would make this way easier, but idk how to do that\n",
        "income = income.replace('25000 or more', 26000)\n",
        "income = income.replace('10000 to 14999', 15000)\n",
        "income = income.replace('20000 to 24999', 25000)\n",
        "income = income.replace('15000 to 19999', 20000)\n",
        "income = income.replace('8000 to 9999', 10000)\n",
        "income = income.replace('1000 to 2999', 3000)\n",
        "income = income.replace('7000 to 7999', 8000)\n",
        "income = income.replace('5000 to 5999', 6000)\n",
        "income = income.replace('3000 to 3999', 4000)\n",
        "income = income.replace('6000 to 6999', 7000)\n",
        "income = income.replace('4000 to 4999', 5000)\n",
        "income = income.replace('under 1000', 999)"
      ],
      "metadata": {
        "id": "xxlrpVwzT49Q"
      },
      "execution_count": null,
      "outputs": []
    },
    {
      "cell_type": "code",
      "source": [
        "print(df.value_counts(income))\n",
        "print(income.dtype) # it's numeric now"
      ],
      "metadata": {
        "id": "Xxg9QaPGVJN0",
        "outputId": "f7f52ca5-c66e-46e5-92b3-c0ac2d7caac1",
        "colab": {
          "base_uri": "https://localhost:8080/"
        }
      },
      "execution_count": null,
      "outputs": [
        {
          "output_type": "stream",
          "name": "stdout",
          "text": [
            "income\n",
            "26000.0    34785\n",
            "15000.0     6850\n",
            "25000.0     5528\n",
            "20000.0     5301\n",
            "10000.0     2285\n",
            "3000.0      1412\n",
            "8000.0      1315\n",
            "6000.0      1314\n",
            "4000.0      1309\n",
            "7000.0      1249\n",
            "5000.0      1189\n",
            "999.0        902\n",
            "dtype: int64\n",
            "float64\n"
          ]
        }
      ]
    },
    {
      "cell_type": "code",
      "source": [
        "df['income'] = income\n",
        "del income # gets rid of my temporary variable\n",
        "df['income'].value_counts() # returns the final count"
      ],
      "metadata": {
        "id": "60X-G6ylVUub",
        "outputId": "7729b1cc-1ec7-4b05-9c20-313e00d0e6a1",
        "colab": {
          "base_uri": "https://localhost:8080/"
        }
      },
      "execution_count": null,
      "outputs": [
        {
          "output_type": "execute_result",
          "data": {
            "text/plain": [
              "26000.0    34785\n",
              "15000.0     6850\n",
              "25000.0     5528\n",
              "20000.0     5301\n",
              "10000.0     2285\n",
              "3000.0      1412\n",
              "8000.0      1315\n",
              "6000.0      1314\n",
              "4000.0      1309\n",
              "7000.0      1249\n",
              "5000.0      1189\n",
              "999.0        902\n",
              "Name: income, dtype: int64"
            ]
          },
          "metadata": {},
          "execution_count": 47
        }
      ]
    },
    {
      "cell_type": "code",
      "source": [
        "df['income'].shape # okay good"
      ],
      "metadata": {
        "id": "nA8yG3k4VwF3",
        "outputId": "91bdd85b-5081-46f6-a35a-c4604bd0e4c8",
        "colab": {
          "base_uri": "https://localhost:8080/"
        }
      },
      "execution_count": null,
      "outputs": [
        {
          "output_type": "execute_result",
          "data": {
            "text/plain": [
              "(72392,)"
            ]
          },
          "metadata": {},
          "execution_count": 49
        }
      ]
    },
    {
      "cell_type": "code",
      "source": [
        "df['income'].hist()"
      ],
      "metadata": {
        "id": "_liluFawV6x0",
        "outputId": "2cb94642-b88c-432e-923f-fdbb6a829688",
        "colab": {
          "base_uri": "https://localhost:8080/",
          "height": 447
        }
      },
      "execution_count": null,
      "outputs": [
        {
          "output_type": "execute_result",
          "data": {
            "text/plain": [
              "<Axes: >"
            ]
          },
          "metadata": {},
          "execution_count": 55
        },
        {
          "output_type": "display_data",
          "data": {
            "text/plain": [
              "<Figure size 640x480 with 1 Axes>"
            ],
            "image/png": "[encoded data removed]"
          },
          "metadata": {}
        }
      ]
    }
  ]
}