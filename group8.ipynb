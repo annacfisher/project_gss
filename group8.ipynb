{
  "nbformat": 4,
  "nbformat_minor": 0,
  "metadata": {
    "colab": {
      "provenance": [],
      "include_colab_link": true
    },
    "kernelspec": {
      "name": "python3",
      "display_name": "Python 3"
    },
    "language_info": {
      "name": "python"
    }
  },
  "cells": [
    {
      "cell_type": "markdown",
      "metadata": {
        "id": "view-in-github",
        "colab_type": "text"
      },
      "source": [
        "<a href=\"https://colab.research.google.com/github/annacfisher/project_gss/blob/main/group8.ipynb\" target=\"_parent\"><img src=\"https://colab.research.google.com/assets/colab-badge.svg\" alt=\"Open In Colab\"/></a>"
      ]
    },
    {
      "cell_type": "markdown",
      "source": [
        "# Project #1\n",
        "\n",
        "## Machine Learning 1\n",
        "\n",
        "### Summary:\n",
        "\n",
        "### Results:\n",
        "\n",
        "### Conclusion:"
      ],
      "metadata": {
        "id": "9nhZcLIAoVw-"
      }
    }
  ]
}