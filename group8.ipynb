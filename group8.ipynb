This is our Group Project
